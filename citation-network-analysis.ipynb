{
 "cells": [
  {
   "cell_type": "markdown",
   "id": "247d4413",
   "metadata": {
    "papermill": {
     "duration": 0.013512,
     "end_time": "2021-07-25T12:52:33.338765",
     "exception": false,
     "start_time": "2021-07-25T12:52:33.325253",
     "status": "completed"
    },
    "tags": []
   },
   "source": [
    "## **Citation Network Analysis**\n",
    "\n",
    "This started as an adaptation of a [kaggle notebook](https://www.kaggle.com/code/virajjayant/citation-network-analysis), but has diverged significantly with the aim of creating a graph of the entire dataset rather than just 130 rows."
   ]
  },
  {
   "cell_type": "code",
   "execution_count": null,
   "id": "7bcbd704-706d-4d28-b1ec-5b810e001c5c",
   "metadata": {
    "_cell_guid": "b1076dfc-b9ad-4769-8c92-a6c4dae69d19",
    "_uuid": "8f2839f25d086af736a60e9eeb907d3b93b6e0e5",
    "papermill": {
     "duration": 0.037431,
     "end_time": "2021-07-25T12:52:33.389363",
     "exception": false,
     "start_time": "2021-07-25T12:52:33.351932",
     "status": "completed"
    },
    "tags": []
   },
   "outputs": [],
   "source": [
    "import sqlite3\n",
    "from pprint import pprint\n",
    "import igraph as ig\n",
    "\n",
    "import matplotlib.pyplot as plt"
   ]
  },
  {
   "cell_type": "markdown",
   "id": "e3e5fe67-4e1d-4d3c-ac5f-e4b97d2f2252",
   "metadata": {
    "_cell_guid": "b1076dfc-b9ad-4769-8c92-a6c4dae69d19",
    "_uuid": "8f2839f25d086af736a60e9eeb907d3b93b6e0e5",
    "papermill": {
     "duration": 0.037431,
     "end_time": "2021-07-25T12:52:33.389363",
     "exception": false,
     "start_time": "2021-07-25T12:52:33.351932",
     "status": "completed"
    },
    "tags": []
   },
   "source": [
    "## Get Data\n",
    "The dataset we will use is from [kaggle](https://www.kaggle.com/datasets/mathurinache/citation-network-dataset?resource=download). It comes zipped up so the first thing we want to do is extract it and examine the format.\n"
   ]
  },
  {
   "cell_type": "code",
   "execution_count": null,
   "id": "e14214fe-18e6-441b-8dd4-c49171cd3f47",
   "metadata": {
    "_cell_guid": "b1076dfc-b9ad-4769-8c92-a6c4dae69d19",
    "_uuid": "8f2839f25d086af736a60e9eeb907d3b93b6e0e5",
    "papermill": {
     "duration": 0.037431,
     "end_time": "2021-07-25T12:52:33.389363",
     "exception": false,
     "start_time": "2021-07-25T12:52:33.351932",
     "status": "completed"
    },
    "tags": []
   },
   "outputs": [],
   "source": [
    "%%bash \n",
    "\n",
    "unzip data/dblp.v12.json.zip -d data"
   ]
  },
  {
   "cell_type": "markdown",
   "id": "3877ed73-9462-4fee-99b6-6af7db99de05",
   "metadata": {
    "_cell_guid": "b1076dfc-b9ad-4769-8c92-a6c4dae69d19",
    "_uuid": "8f2839f25d086af736a60e9eeb907d3b93b6e0e5",
    "papermill": {
     "duration": 0.037431,
     "end_time": "2021-07-25T12:52:33.389363",
     "exception": false,
     "start_time": "2021-07-25T12:52:33.351932",
     "status": "completed"
    },
    "tags": []
   },
   "source": [
    "## Data Format\n",
    "Using head and tail we can quickly get a sense for the content of the file without reading it all in."
   ]
  },
  {
   "cell_type": "code",
   "execution_count": null,
   "id": "2ca342ea-9c84-4d22-98f7-b1cb531c8601",
   "metadata": {
    "_cell_guid": "b1076dfc-b9ad-4769-8c92-a6c4dae69d19",
    "_uuid": "8f2839f25d086af736a60e9eeb907d3b93b6e0e5",
    "papermill": {
     "duration": 0.037431,
     "end_time": "2021-07-25T12:52:33.389363",
     "exception": false,
     "start_time": "2021-07-25T12:52:33.351932",
     "status": "completed"
    },
    "tags": []
   },
   "outputs": [],
   "source": [
    "%%bash\n",
    "# show first three lines, using cat to add line numbers\n",
    "head data/dblp.v12.json -n 3 | cat -n "
   ]
  },
  {
   "cell_type": "code",
   "execution_count": null,
   "id": "c5d81e0b-2278-4fb6-813a-a55da11fd5a5",
   "metadata": {
    "_cell_guid": "b1076dfc-b9ad-4769-8c92-a6c4dae69d19",
    "_uuid": "8f2839f25d086af736a60e9eeb907d3b93b6e0e5",
    "papermill": {
     "duration": 0.037431,
     "end_time": "2021-07-25T12:52:33.389363",
     "exception": false,
     "start_time": "2021-07-25T12:52:33.351932",
     "status": "completed"
    },
    "tags": []
   },
   "outputs": [],
   "source": [
    "%%bash\n",
    "# show last three lines, using cat to add line numbers\n",
    "tail data/dblp.v12.json -n 3 | cat -n"
   ]
  },
  {
   "cell_type": "code",
   "execution_count": null,
   "id": "0213b885-7d75-4a36-92c9-052de6a20ecd",
   "metadata": {
    "_cell_guid": "b1076dfc-b9ad-4769-8c92-a6c4dae69d19",
    "_uuid": "8f2839f25d086af736a60e9eeb907d3b93b6e0e5",
    "papermill": {
     "duration": 0.037431,
     "end_time": "2021-07-25T12:52:33.389363",
     "exception": false,
     "start_time": "2021-07-25T12:52:33.351932",
     "status": "completed"
    },
    "tags": []
   },
   "outputs": [],
   "source": [
    "%%bash\n",
    "# count the number of lines in the file\n",
    "wc -l data/dblp.v12.json"
   ]
  },
  {
   "cell_type": "markdown",
   "id": "edf3260d-81b6-4f0a-aa53-45fce5a027bc",
   "metadata": {
    "papermill": {
     "duration": 0.305348,
     "end_time": "2021-07-25T12:53:05.973753",
     "exception": false,
     "start_time": "2021-07-25T12:53:05.668405",
     "status": "completed"
    },
    "tags": []
   },
   "source": [
    "So, the data probably looks like this:\n",
    "\n",
    "```\n",
    "[\n",
    "{dict}\n",
    ",{dict}\n",
    "... ~ 4.9m more dicts\n",
    ",{dict}\n",
    ",{dict}\n",
    "]\n",
    "```\n",
    "\n",
    "Looking at the above a few things are interesting:\n",
    "* The dicts are each on their own line\n",
    "* The commas separating the dicts are at the start of the line from the third line onwards"
   ]
  },
  {
   "cell_type": "markdown",
   "id": "61429314-7bc0-4198-a3bf-67ef733482df",
   "metadata": {
    "papermill": {
     "duration": 0.305348,
     "end_time": "2021-07-25T12:53:05.973753",
     "exception": false,
     "start_time": "2021-07-25T12:53:05.668405",
     "status": "completed"
    },
    "tags": []
   },
   "source": [
    "## ndjson \n",
    "This means the data is close to being in [ndjson](http://ndjson.org/) format where each line is a valid json object. This would be helpful because it would mean you can parse the file a line at a time, instead of having to swallow the whole thing.\n",
    "\n",
    "We can massage the file into shape with some sed (only takes a few seconds)"
   ]
  },
  {
   "cell_type": "code",
   "execution_count": null,
   "id": "adf12e67-f810-4ea8-baf0-324ba0043d5f",
   "metadata": {
    "papermill": {
     "duration": 0.305348,
     "end_time": "2021-07-25T12:53:05.973753",
     "exception": false,
     "start_time": "2021-07-25T12:53:05.668405",
     "status": "completed"
    },
    "tags": []
   },
   "outputs": [],
   "source": [
    "%%bash\n",
    "\n",
    "sed -i '1d;$d' data/dblp.v12.json # remove 1st & last line\n",
    "sed -i 's/^,//' data/dblp.v12.json # remove commas where they are the first character using regex\n",
    "wc -l data/dblp.v12.json # see - two fewer rows."
   ]
  },
  {
   "cell_type": "markdown",
   "id": "763b0791-9e30-4dfa-87f9-2745390ca6a4",
   "metadata": {
    "papermill": {
     "duration": 0.305348,
     "end_time": "2021-07-25T12:53:05.973753",
     "exception": false,
     "start_time": "2021-07-25T12:53:05.668405",
     "status": "completed"
    },
    "tags": []
   },
   "source": [
    "# `sqlite-utils`\n",
    "Now we are in ndjson form we can use [sqlite-utils](https://sqlite-utils.datasette.io) to create an sqlite database of the file, which will let us work with it without having to have it all it memory."
   ]
  },
  {
   "cell_type": "markdown",
   "id": "d77cae7e-4e10-411f-a430-ada18c6a2ac8",
   "metadata": {
    "papermill": {
     "duration": 0.305348,
     "end_time": "2021-07-25T12:53:05.973753",
     "exception": false,
     "start_time": "2021-07-25T12:53:05.668405",
     "status": "completed"
    },
    "tags": []
   },
   "source": [
    "## Some Failed Attempts\n",
    "My first attempt was to use sqlite & its json1 extension to create the table directly, but I think I need a slightly newer version of sqlite to get readfile working\n",
    "\n",
    "```sql\n",
    "create table citations_direct as SELECT json_extract(value, '$.id') from json_each(readfile('dblp.v12.json'));\n",
    "\n",
    "```\n",
    "\n",
    "The next thing I tried was sqlite-utils:\n",
    "```sh\n",
    "sqlite-utils insert test.db citations --pk=id dblp.v12.json --nl\n",
    "> Error: table citations has no column named alias_ids\n",
    "```\n",
    "\n",
    "\n",
    "```sh\n",
    "sqlite3 citations.db \"CREATE TABLE test(id text, year number, title text, refs text)\"\n",
    "sqlite-utils bulk citations.db 'insert into test (id, year, title, refs) values (:id, :year, :title, :references)' dblp.v12.json --nl\n",
    "> Error binding parameter :references - probably unsupported type.\n",
    "```"
   ]
  },
  {
   "cell_type": "markdown",
   "id": "5fc47c64-6635-48c7-bb46-f727e048b93c",
   "metadata": {
    "papermill": {
     "duration": 0.305348,
     "end_time": "2021-07-25T12:53:05.973753",
     "exception": false,
     "start_time": "2021-07-25T12:53:05.668405",
     "status": "completed"
    },
    "tags": []
   },
   "source": [
    "## Brute Force\n",
    "...alternatively we can just insert everything. This takes a minute, but works.\n",
    "\n",
    "We are using `--nl` to tell it to expect newline delimited json & `--lines` to tell it to insert each line as an item in the line column of the citations table.\n",
    "\n",
    "I have set the batch size between database commits to an arbitrary large number to increase performance (it defaults to 100) this could cause issues if we wanted to read the database while this process was running, but we dont so..."
   ]
  },
  {
   "cell_type": "code",
   "execution_count": null,
   "id": "8e62cb13-e3b2-43dc-801f-d7a56d1078ec",
   "metadata": {
    "papermill": {
     "duration": 0.305348,
     "end_time": "2021-07-25T12:53:05.973753",
     "exception": false,
     "start_time": "2021-07-25T12:53:05.668405",
     "status": "completed"
    },
    "tags": []
   },
   "outputs": [],
   "source": [
    "%%bash\n",
    "# 120s with large batch size vs ~460s without\n",
    "sqlite-utils insert data/citations.db citations data/dblp.v12.json --nl --lines --batch-size 100000"
   ]
  },
  {
   "cell_type": "markdown",
   "id": "70207c06-bde7-46f5-a911-3eb56a33ca93",
   "metadata": {
    "papermill": {
     "duration": 0.305348,
     "end_time": "2021-07-25T12:53:05.973753",
     "exception": false,
     "start_time": "2021-07-25T12:53:05.668405",
     "status": "completed"
    },
    "tags": []
   },
   "source": [
    "## SQLite in Python\n",
    "Here we make a connection to the database we just created"
   ]
  },
  {
   "cell_type": "code",
   "execution_count": null,
   "id": "ab7c46a1-e322-4a1e-9674-2e39ff3d074d",
   "metadata": {
    "papermill": {
     "duration": 0.305348,
     "end_time": "2021-07-25T12:53:05.973753",
     "exception": false,
     "start_time": "2021-07-25T12:53:05.668405",
     "status": "completed"
    },
    "tags": []
   },
   "outputs": [],
   "source": [
    "conn = sqlite3.connect(\"data/citations.db\")\n",
    "cur = conn.cursor()"
   ]
  },
  {
   "cell_type": "markdown",
   "id": "7d22bea5-83e0-4877-aa90-76931734dc17",
   "metadata": {
    "papermill": {
     "duration": 0.305348,
     "end_time": "2021-07-25T12:53:05.973753",
     "exception": false,
     "start_time": "2021-07-25T12:53:05.668405",
     "status": "completed"
    },
    "tags": []
   },
   "source": [
    "we can the use this to run SQL against the database. In this case, we check how many rows we have generated:"
   ]
  },
  {
   "cell_type": "code",
   "execution_count": null,
   "id": "a72af866-8811-4452-a768-6319696ecd1d",
   "metadata": {
    "papermill": {
     "duration": 0.305348,
     "end_time": "2021-07-25T12:53:05.973753",
     "exception": false,
     "start_time": "2021-07-25T12:53:05.668405",
     "status": "completed"
    },
    "tags": []
   },
   "outputs": [],
   "source": [
    "cur.execute(\"SELECT COUNT(*) FROM citations\")\n",
    "cur.fetchone()"
   ]
  },
  {
   "cell_type": "markdown",
   "id": "9840af6a-07c7-42c8-a0b7-269862f911cd",
   "metadata": {
    "papermill": {
     "duration": 0.305348,
     "end_time": "2021-07-25T12:53:05.973753",
     "exception": false,
     "start_time": "2021-07-25T12:53:05.668405",
     "status": "completed"
    },
    "tags": []
   },
   "source": [
    "## SQLite & JSON\n",
    "\n",
    "SQLite contains a set of functions for working with json, [see the docs](https://sqlite.org/json1.html).\n",
    "\n",
    "We can use sqlite's `json_extract()` function to pull out the keys we need from the json"
   ]
  },
  {
   "cell_type": "code",
   "execution_count": null,
   "id": "a8a5c39b-736a-48d0-bc86-123917b1b76f",
   "metadata": {
    "papermill": {
     "duration": 0.305348,
     "end_time": "2021-07-25T12:53:05.973753",
     "exception": false,
     "start_time": "2021-07-25T12:53:05.668405",
     "status": "completed"
    },
    "tags": []
   },
   "outputs": [],
   "source": [
    "cur.execute(\"\"\"\n",
    "CREATE TABLE subset AS \n",
    "    SELECT \n",
    "        json_extract(line, '$.id') as id,\n",
    "        json_extract(line, '$.year') as yr, \n",
    "        json_extract(line, '$.title') as title,\n",
    "        json_extract(line, '$.references') as refs\n",
    "    FROM\n",
    "        citations;\n",
    "\"\"\")"
   ]
  },
  {
   "cell_type": "markdown",
   "id": "2becd75e-72a6-40f1-b202-0fa4177e5d9f",
   "metadata": {
    "papermill": {
     "duration": 0.305348,
     "end_time": "2021-07-25T12:53:05.973753",
     "exception": false,
     "start_time": "2021-07-25T12:53:05.668405",
     "status": "completed"
    },
    "tags": []
   },
   "source": [
    "We can check this has worked as intended by taking a look at the top of the table."
   ]
  },
  {
   "cell_type": "code",
   "execution_count": null,
   "id": "dba6abed-c8af-42a5-8d60-e1b2c6f28e93",
   "metadata": {
    "papermill": {
     "duration": 0.305348,
     "end_time": "2021-07-25T12:53:05.973753",
     "exception": false,
     "start_time": "2021-07-25T12:53:05.668405",
     "status": "completed"
    },
    "tags": []
   },
   "outputs": [],
   "source": [
    "cur.execute(\"SELECT * FROM subset LIMIT 3\")\n",
    "cur.fetchall()"
   ]
  },
  {
   "cell_type": "markdown",
   "id": "026211a3-c0be-4aba-b6df-61d5e4aaa1ac",
   "metadata": {
    "papermill": {
     "duration": 0.305348,
     "end_time": "2021-07-25T12:53:05.973753",
     "exception": false,
     "start_time": "2021-07-25T12:53:05.668405",
     "status": "completed"
    },
    "tags": []
   },
   "source": [
    "### Unnest\n",
    "That's great and all, but we have multiple items in the refs cells which we probably want to split out so we can deal with them sensibly.\n",
    "\n",
    "Happily, the `json_tree()` function let you turn the elements of the json (or in this case the array in the refs column) into rows."
   ]
  },
  {
   "cell_type": "code",
   "execution_count": null,
   "id": "673ef517-2d59-4b73-a703-fb674e8b4b7b",
   "metadata": {
    "papermill": {
     "duration": 0.305348,
     "end_time": "2021-07-25T12:53:05.973753",
     "exception": false,
     "start_time": "2021-07-25T12:53:05.668405",
     "status": "completed"
    },
    "tags": []
   },
   "outputs": [],
   "source": [
    "cur.execute(\"\"\"\n",
    "SELECT \n",
    "    subset.id, atom\n",
    "FROM \n",
    "    subset, json_tree(subset.refs) \n",
    "WHERE \n",
    "    json_tree.key IS NOT NULL  -- filters out the top level bits of the tree\n",
    "LIMIT 10;                      -- we just want a preview\n",
    "\"\"\")\n",
    "\n",
    "cur.fetchall()"
   ]
  },
  {
   "cell_type": "markdown",
   "id": "c22166dc-b4e6-4e6c-a009-e37637744100",
   "metadata": {
    "papermill": {
     "duration": 0.305348,
     "end_time": "2021-07-25T12:53:05.973753",
     "exception": false,
     "start_time": "2021-07-25T12:53:05.668405",
     "status": "completed"
    },
    "tags": []
   },
   "source": [
    "In this case, because we have pruned our json column down to just an array, we dont need the tree, we only need to traverse one level down, using `json_each()`.\n",
    "So we can create a table of edges (i.e. paper id -> ref) with the following:"
   ]
  },
  {
   "cell_type": "code",
   "execution_count": null,
   "id": "282978cb-749e-4329-8ece-7709a1aa0b45",
   "metadata": {
    "papermill": {
     "duration": 0.305348,
     "end_time": "2021-07-25T12:53:05.973753",
     "exception": false,
     "start_time": "2021-07-25T12:53:05.668405",
     "status": "completed"
    },
    "tags": []
   },
   "outputs": [],
   "source": [
    "cur.execute(\"\"\"\n",
    "CREATE TABLE edges AS \n",
    "    SELECT subset.id, atom\n",
    "      FROM subset, json_each(subset.refs);\n",
    "\"\"\"\n",
    ")"
   ]
  },
  {
   "cell_type": "code",
   "execution_count": null,
   "id": "15920be0-8b5b-42b8-af53-c7c35b2e54f8",
   "metadata": {
    "papermill": {
     "duration": 0.305348,
     "end_time": "2021-07-25T12:53:05.973753",
     "exception": false,
     "start_time": "2021-07-25T12:53:05.668405",
     "status": "completed"
    },
    "tags": []
   },
   "outputs": [],
   "source": [
    "cur.execute(\"SELECT * FROM edges LIMIT 10\")\n",
    "cur.fetchall()"
   ]
  },
  {
   "cell_type": "markdown",
   "id": "07c1747a-7f56-4f3d-97d3-d8b71374af46",
   "metadata": {
    "papermill": {
     "duration": 0.305348,
     "end_time": "2021-07-25T12:53:05.973753",
     "exception": false,
     "start_time": "2021-07-25T12:53:05.668405",
     "status": "completed"
    },
    "tags": []
   },
   "source": [
    "Neat - so now we have a the subset table with the information for our verticies and the edges table with just the citations info, with a row per citation."
   ]
  },
  {
   "cell_type": "markdown",
   "id": "c50adc1d-f932-42d7-8d4d-9f0c96d369c8",
   "metadata": {},
   "source": [
    "# SQLite to igraph\n",
    "\n",
    "Now we have used SQLite to do the data prep work we want to start constructing our graph. We will do this using the package `igraph` which provides bindings to the igraph C library which provides a performant graph data structure. (networkx is pretty slow).\n",
    "\n",
    "To do this we need to bring our data out of sqlite and into python. (This is the bit where you start to use some RAM, but if we hit limits we can break this into chunks.)"
   ]
  },
  {
   "cell_type": "code",
   "execution_count": null,
   "id": "0c6f8cd3-4833-4caa-92fa-8ae9bd84033e",
   "metadata": {},
   "outputs": [],
   "source": [
    "cur.execute(\"SELECT cast(id as text), cast(atom as text) FROM edges\")\n",
    "edges = cur.fetchall()\n",
    "len(edges)"
   ]
  },
  {
   "cell_type": "markdown",
   "id": "d3549a32-741d-45ba-ab3d-2a1a6690ee3b",
   "metadata": {},
   "source": [
    "Thats 45,564,149 edges!"
   ]
  },
  {
   "cell_type": "code",
   "execution_count": null,
   "id": "95767f00-2526-4d6a-a309-4a3156c97f8d",
   "metadata": {},
   "outputs": [],
   "source": [
    "edges[0:5]"
   ]
  },
  {
   "cell_type": "markdown",
   "id": "573a1236-d2ef-48d2-a271-063a7ade7656",
   "metadata": {},
   "source": [
    "Now the node / vertex information. In the first instance we probably just want the titles and paper id's.\n",
    "\n",
    "We are casting to text here so that we can use them as node labels rather than node id's in igraph (integers get used as ids)"
   ]
  },
  {
   "cell_type": "code",
   "execution_count": null,
   "id": "4eecd6ce-44b3-4a00-9d7c-b886a3193af6",
   "metadata": {},
   "outputs": [],
   "source": [
    "cur.execute(\"SELECT cast(id as text), title FROM subset\")\n",
    "nodes = cur.fetchall()\n",
    "len(nodes)"
   ]
  },
  {
   "cell_type": "code",
   "execution_count": null,
   "id": "94f51b31-908b-40a5-8ff4-ffecbe99b6fc",
   "metadata": {},
   "outputs": [],
   "source": [
    "nodes[:3]"
   ]
  },
  {
   "cell_type": "markdown",
   "id": "dcc59167-b574-4c8f-8f13-4f1a2dc952ba",
   "metadata": {},
   "source": [
    "At this point, checking memory usage we are using ~16Gb of RAM, so depending on the machine we may need to use some `LIMIT, OFFSET` queries to page through the results and work in smaller chunks."
   ]
  },
  {
   "cell_type": "code",
   "execution_count": null,
   "id": "e0e8300f-942a-4f5e-9eef-7c30abb605fb",
   "metadata": {
    "papermill": {
     "duration": 0.036744,
     "end_time": "2021-07-25T12:53:57.620978",
     "exception": false,
     "start_time": "2021-07-25T12:53:57.584234",
     "status": "completed"
    },
    "tags": []
   },
   "outputs": [],
   "source": [
    "cgraph = ig.Graph(directed = True)\n",
    "cgraph"
   ]
  },
  {
   "cell_type": "markdown",
   "id": "8bc665e2-8262-4eb1-973f-98a84d50b93e",
   "metadata": {
    "papermill": {
     "duration": 0.036744,
     "end_time": "2021-07-25T12:53:57.620978",
     "exception": false,
     "start_time": "2021-07-25T12:53:57.584234",
     "status": "completed"
    },
    "tags": []
   },
   "source": [
    "The nodes come as a list of 4.9m tuples, but I want to flip the indicies and have a list of length two where the first item contains all the node labels, and the second the titles. I overwrite the original nodes variable to avoid eating even more RAM."
   ]
  },
  {
   "cell_type": "code",
   "execution_count": null,
   "id": "885759cf-3c61-4b0c-af6f-479f09699c3f",
   "metadata": {
    "papermill": {
     "duration": 0.036744,
     "end_time": "2021-07-25T12:53:57.620978",
     "exception": false,
     "start_time": "2021-07-25T12:53:57.584234",
     "status": "completed"
    },
    "tags": []
   },
   "outputs": [],
   "source": [
    "nodes = list(zip(*nodes))"
   ]
  },
  {
   "cell_type": "code",
   "execution_count": null,
   "id": "04df74a9-ee8a-44fa-9c2a-e12f025d8471",
   "metadata": {
    "papermill": {
     "duration": 0.036744,
     "end_time": "2021-07-25T12:53:57.620978",
     "exception": false,
     "start_time": "2021-07-25T12:53:57.584234",
     "status": "completed"
    },
    "tags": []
   },
   "outputs": [],
   "source": [
    "nodes[0][:3]"
   ]
  },
  {
   "cell_type": "code",
   "execution_count": null,
   "id": "78879e18-06bf-4e06-afb1-c42e8f75dd88",
   "metadata": {
    "papermill": {
     "duration": 0.036744,
     "end_time": "2021-07-25T12:53:57.620978",
     "exception": false,
     "start_time": "2021-07-25T12:53:57.584234",
     "status": "completed"
    },
    "tags": []
   },
   "outputs": [],
   "source": [
    "nodes[1][:3]"
   ]
  },
  {
   "cell_type": "markdown",
   "id": "49d15c96-6ab3-4ceb-bbb7-5d02d663ebc4",
   "metadata": {
    "papermill": {
     "duration": 0.036744,
     "end_time": "2021-07-25T12:53:57.620978",
     "exception": false,
     "start_time": "2021-07-25T12:53:57.584234",
     "status": "completed"
    },
    "tags": []
   },
   "source": [
    "This makes it easy to pass the data into the bulk add_vertices & add_edges functions:"
   ]
  },
  {
   "cell_type": "code",
   "execution_count": null,
   "id": "c047a755-e4c3-4878-9c24-19740acec34a",
   "metadata": {
    "papermill": {
     "duration": 0.036744,
     "end_time": "2021-07-25T12:53:57.620978",
     "exception": false,
     "start_time": "2021-07-25T12:53:57.584234",
     "status": "completed"
    },
    "tags": []
   },
   "outputs": [],
   "source": [
    "cgraph.add_vertices(n = len(nodes[0]), attributes = {\"name\": nodes[0], \"title\":nodes[1]})"
   ]
  },
  {
   "cell_type": "code",
   "execution_count": null,
   "id": "c166f1ef-0790-4235-be2a-648ea33d1f63",
   "metadata": {
    "papermill": {
     "duration": 0.036744,
     "end_time": "2021-07-25T12:53:57.620978",
     "exception": false,
     "start_time": "2021-07-25T12:53:57.584234",
     "status": "completed"
    },
    "tags": []
   },
   "outputs": [],
   "source": [
    "cgraph.add_edges(edges)"
   ]
  },
  {
   "cell_type": "code",
   "execution_count": null,
   "id": "13936c73-0970-4d2b-9c55-da04fdc72980",
   "metadata": {},
   "outputs": [],
   "source": [
    "cgraph.vcount()"
   ]
  },
  {
   "cell_type": "code",
   "execution_count": null,
   "id": "bac2bf14-0196-4030-b6bd-4a54df5044d4",
   "metadata": {},
   "outputs": [],
   "source": [
    "cgraph.ecount()"
   ]
  },
  {
   "cell_type": "markdown",
   "id": "ccb7d3aa-f0f0-435c-b9a9-5712bd7aa1f8",
   "metadata": {},
   "source": [
    "RAM usage ~18Gb at this point"
   ]
  },
  {
   "cell_type": "markdown",
   "id": "465428bc-0132-4f64-847a-c93122ecb870",
   "metadata": {},
   "source": [
    "# Using the graph"
   ]
  },
  {
   "cell_type": "markdown",
   "id": "fa0b9ae1-fd72-4fb0-b7bb-c4d26869c238",
   "metadata": {},
   "source": [
    "I could imagine a situation where we wanted to search for a node in the graph, then find the other nodes it cites"
   ]
  },
  {
   "cell_type": "code",
   "execution_count": null,
   "id": "5fc170f0-a68a-4106-9591-7396b43d0754",
   "metadata": {},
   "outputs": [],
   "source": [
    "cur.execute(\"SELECT * FROM SUBSET WHERE title like '% igraph %' LIMIT 10\")\n",
    "search_results = cur.fetchall()\n",
    "search_results"
   ]
  },
  {
   "cell_type": "code",
   "execution_count": null,
   "id": "0cdc4f52-e1e2-4769-bcd6-5de7bbe63a60",
   "metadata": {},
   "outputs": [],
   "source": [
    "str(search_results[0][0])"
   ]
  },
  {
   "cell_type": "code",
   "execution_count": null,
   "id": "ee8f8848-e8f3-427c-b560-45ac0108db0e",
   "metadata": {},
   "outputs": [],
   "source": [
    "# get the vertex with the name corresponding to the first search result.\n",
    "vtx = cgraph.vs.find(name=str(search_results[0][0]))\n",
    "vtx"
   ]
  },
  {
   "cell_type": "code",
   "execution_count": null,
   "id": "29bae68e-0ee4-468b-8b84-8ce5f2f09cf2",
   "metadata": {},
   "outputs": [],
   "source": [
    "vtx.index"
   ]
  },
  {
   "cell_type": "code",
   "execution_count": null,
   "id": "74fcbdf2-1354-47c7-8339-2e1d3f066b1d",
   "metadata": {},
   "outputs": [],
   "source": [
    "neighbor_ids = cgraph.neighborhood(vtx.index, order=1)\n",
    "neighbor_ids"
   ]
  },
  {
   "cell_type": "code",
   "execution_count": null,
   "id": "46203138-b898-48b8-9be8-063c193f37d8",
   "metadata": {},
   "outputs": [],
   "source": [
    "neighbor_vtx = ig.VertexSeq(cgraph, neighbor_ids)\n",
    "neighbor_vtx"
   ]
  },
  {
   "cell_type": "code",
   "execution_count": null,
   "id": "d257c04a-650d-4469-94ec-ae19039eb174",
   "metadata": {},
   "outputs": [],
   "source": [
    "neighbor_vtx[\"title\"]"
   ]
  },
  {
   "cell_type": "markdown",
   "id": "51b2c9f9-9efb-46e4-b810-3fafd2e8d250",
   "metadata": {},
   "source": [
    "# Important Nodes\n",
    "\n",
    "igraph gives us some options to start to sift through the graph and figure out which nodes are important.\n",
    "\n",
    "## PageRank\n",
    "\n",
    "See: https://en.wikipedia.org/wiki/PageRank\n"
   ]
  },
  {
   "cell_type": "code",
   "execution_count": null,
   "id": "d83ea11c-6fc5-469a-830d-500a8946a589",
   "metadata": {},
   "outputs": [],
   "source": [
    "pagerank = cgraph.pagerank()"
   ]
  },
  {
   "cell_type": "code",
   "execution_count": null,
   "id": "0261b63b-e968-4551-84d7-cf18c5363fd4",
   "metadata": {},
   "outputs": [],
   "source": [
    "pagerank[0:10]"
   ]
  },
  {
   "cell_type": "code",
   "execution_count": null,
   "id": "7458ba52-4c68-4c76-8cbe-0ab171fd33f0",
   "metadata": {},
   "outputs": [],
   "source": [
    "len(pagerank)"
   ]
  },
  {
   "cell_type": "code",
   "execution_count": null,
   "id": "c478db60-f2ae-4de9-8da5-aa8f7260fea8",
   "metadata": {},
   "outputs": [],
   "source": [
    "max(pagerank)"
   ]
  },
  {
   "cell_type": "code",
   "execution_count": null,
   "id": "68c5cf29-9883-47ec-b61d-0ddd178ad3dd",
   "metadata": {},
   "outputs": [],
   "source": [
    "import numpy as np"
   ]
  },
  {
   "cell_type": "code",
   "execution_count": null,
   "id": "cfe4b302-158e-46d6-bd1f-dd299610de8e",
   "metadata": {},
   "outputs": [],
   "source": [
    "# get index of the maximum pagerank\n",
    "indexnp.argmax(pagerank)"
   ]
  },
  {
   "cell_type": "code",
   "execution_count": null,
   "id": "f7221704-05e0-4c54-848a-67587bce236e",
   "metadata": {},
   "outputs": [],
   "source": [
    "# get the vertex object for this index\n",
    "max_pr_vertex = cgraph.vs[1651044]\n",
    "max_pr_vertex"
   ]
  },
  {
   "cell_type": "code",
   "execution_count": null,
   "id": "f63a5454-7de4-414b-880e-94477c66b4f5",
   "metadata": {},
   "outputs": [],
   "source": [
    "# check its the right vertex by cross checking the pagerank\n",
    "max_pr_vertex.pagerank()"
   ]
  },
  {
   "cell_type": "code",
   "execution_count": null,
   "id": "6cec9605-ae9b-4a8b-8f49-f46f04d70606",
   "metadata": {},
   "outputs": [],
   "source": [
    "# see how many edges this vertex has\n",
    "len(max_pr_vertex.all_edges())"
   ]
  },
  {
   "cell_type": "code",
   "execution_count": null,
   "id": "6e25583e-481f-44bf-9532-2bd1f8c969e5",
   "metadata": {},
   "outputs": [],
   "source": [
    "# of these, how many are edges going in (i.e. citing) the paper\n",
    "len(max_pr_vertex.in_edges())"
   ]
  },
  {
   "cell_type": "code",
   "execution_count": null,
   "id": "110afc3e-673a-4875-8db2-ca90d1aa137a",
   "metadata": {},
   "outputs": [],
   "source": [
    "# and how many are going out (i.e. what did it cite)\n",
    "len(max_pr_vertex.out_edges())"
   ]
  },
  {
   "cell_type": "code",
   "execution_count": null,
   "id": "7ee0a770-54f3-4e34-9de1-c3aaa13316db",
   "metadata": {},
   "outputs": [],
   "source": [
    "# yep - checks out, 966 rows in edges citing this paper.\n",
    "cur.execute(\"SELECT count(*) FROM edges WHERE atom = 2054801208\")\n",
    "cur.fetchall()"
   ]
  },
  {
   "cell_type": "markdown",
   "id": "efdaa8b6-b738-4c2b-9c0c-4f44f0ccf905",
   "metadata": {},
   "source": [
    "Yeah, we can find this paper on google scholar [here](https://scholar.google.com/scholar?hl=en&as_sdt=0%2C5&q=Finite+automata+and+their+decision+problems&btnG=)\n",
    "\n",
    "It seems like a good candidate for a high page rank - it's cited by >2000 papers (I guess mostly outside our dataset) and it only cites 7 itself"
   ]
  },
  {
   "cell_type": "markdown",
   "id": "b10cc293-0446-42b0-b4ee-1c27f95cbc0f",
   "metadata": {},
   "source": [
    "# Disconnect\n"
   ]
  },
  {
   "cell_type": "code",
   "execution_count": null,
   "id": "070559bf-cc0b-44b8-a747-d06e14e0fb77",
   "metadata": {},
   "outputs": [],
   "source": [
    "cur.close()\n",
    "conn.close()"
   ]
  }
 ],
 "metadata": {
  "kernelspec": {
   "display_name": "citationgraph",
   "language": "python",
   "name": "citationgraph"
  },
  "language_info": {
   "codemirror_mode": {
    "name": "ipython",
    "version": 3
   },
   "file_extension": ".py",
   "mimetype": "text/x-python",
   "name": "python",
   "nbconvert_exporter": "python",
   "pygments_lexer": "ipython3",
   "version": "3.10.6"
  },
  "papermill": {
   "default_parameters": {},
   "duration": 96.84097,
   "end_time": "2021-07-25T12:54:01.832841",
   "environment_variables": {},
   "exception": null,
   "input_path": "__notebook__.ipynb",
   "output_path": "__notebook__.ipynb",
   "parameters": {},
   "start_time": "2021-07-25T12:52:24.991871",
   "version": "2.3.3"
  },
  "vscode": {
   "interpreter": {
    "hash": "31f2aee4e71d21fbe5cf8b01ff0e069b9275f58929596ceb00d14d90e3e16cd6"
   }
  }
 },
 "nbformat": 4,
 "nbformat_minor": 5
}
